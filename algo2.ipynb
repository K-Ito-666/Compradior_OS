{
 "cells": [
  {
   "cell_type": "code",
   "execution_count": 1,
   "metadata": {},
   "outputs": [],
   "source": [
    "import warnings\n",
    "\n",
    "import numpy as np\n",
    "import pandas as pd\n",
    "from pydub import AudioSegment\n",
    "\n",
    "warnings.filterwarnings(\"ignore\")\n",
    "# pd.set_option(\"display.max_rows\", 120)"
   ]
  },
  {
   "cell_type": "code",
   "execution_count": 2,
   "metadata": {},
   "outputs": [
    {
     "data": {
      "text/plain": [
       "7200000"
      ]
     },
     "execution_count": 2,
     "metadata": {},
     "output_type": "execute_result"
    }
   ],
   "source": [
    "sound = AudioSegment.from_file(\"Compradior_OS/data/annkw220116.mp3\", format=\"mp3\")\n",
    "len(sound)"
   ]
  },
  {
   "cell_type": "code",
   "execution_count": 3,
   "metadata": {},
   "outputs": [
    {
     "data": {
      "text/html": [
       "<div>\n",
       "<style scoped>\n",
       "    .dataframe tbody tr th:only-of-type {\n",
       "        vertical-align: middle;\n",
       "    }\n",
       "\n",
       "    .dataframe tbody tr th {\n",
       "        vertical-align: top;\n",
       "    }\n",
       "\n",
       "    .dataframe thead th {\n",
       "        text-align: right;\n",
       "    }\n",
       "</style>\n",
       "<table border=\"1\" class=\"dataframe\">\n",
       "  <thead>\n",
       "    <tr style=\"text-align: right;\">\n",
       "      <th></th>\n",
       "      <th>created_at</th>\n",
       "      <th>counts</th>\n",
       "    </tr>\n",
       "  </thead>\n",
       "  <tbody>\n",
       "    <tr>\n",
       "      <th>0</th>\n",
       "      <td>2022-01-16 01:01:00</td>\n",
       "      <td>309</td>\n",
       "    </tr>\n",
       "    <tr>\n",
       "      <th>1</th>\n",
       "      <td>2022-01-16 01:02:00</td>\n",
       "      <td>122</td>\n",
       "    </tr>\n",
       "    <tr>\n",
       "      <th>2</th>\n",
       "      <td>2022-01-16 01:03:00</td>\n",
       "      <td>213</td>\n",
       "    </tr>\n",
       "    <tr>\n",
       "      <th>3</th>\n",
       "      <td>2022-01-16 01:04:00</td>\n",
       "      <td>237</td>\n",
       "    </tr>\n",
       "    <tr>\n",
       "      <th>4</th>\n",
       "      <td>2022-01-16 01:05:00</td>\n",
       "      <td>174</td>\n",
       "    </tr>\n",
       "    <tr>\n",
       "      <th>...</th>\n",
       "      <td>...</td>\n",
       "      <td>...</td>\n",
       "    </tr>\n",
       "    <tr>\n",
       "      <th>115</th>\n",
       "      <td>2022-01-16 02:56:00</td>\n",
       "      <td>45</td>\n",
       "    </tr>\n",
       "    <tr>\n",
       "      <th>116</th>\n",
       "      <td>2022-01-16 02:57:00</td>\n",
       "      <td>37</td>\n",
       "    </tr>\n",
       "    <tr>\n",
       "      <th>117</th>\n",
       "      <td>2022-01-16 02:58:00</td>\n",
       "      <td>263</td>\n",
       "    </tr>\n",
       "    <tr>\n",
       "      <th>118</th>\n",
       "      <td>2022-01-16 02:59:00</td>\n",
       "      <td>241</td>\n",
       "    </tr>\n",
       "    <tr>\n",
       "      <th>119</th>\n",
       "      <td>2022-01-16 03:00:00</td>\n",
       "      <td>76</td>\n",
       "    </tr>\n",
       "  </tbody>\n",
       "</table>\n",
       "<p>120 rows × 2 columns</p>\n",
       "</div>"
      ],
      "text/plain": [
       "              created_at  counts\n",
       "0    2022-01-16 01:01:00     309\n",
       "1    2022-01-16 01:02:00     122\n",
       "2    2022-01-16 01:03:00     213\n",
       "3    2022-01-16 01:04:00     237\n",
       "4    2022-01-16 01:05:00     174\n",
       "..                   ...     ...\n",
       "115  2022-01-16 02:56:00      45\n",
       "116  2022-01-16 02:57:00      37\n",
       "117  2022-01-16 02:58:00     263\n",
       "118  2022-01-16 02:59:00     241\n",
       "119  2022-01-16 03:00:00      76\n",
       "\n",
       "[120 rows x 2 columns]"
      ]
     },
     "execution_count": 3,
     "metadata": {},
     "output_type": "execute_result"
    }
   ],
   "source": [
    "df = pd.read_csv('Compradior_OS/data/count_annkw220116.csv')\n",
    "df = df.drop(['Unnamed: 0'], axis=1)\n",
    "df = df[0:120]\n",
    "df.reset_index(inplace=True, drop=True)\n",
    "df"
   ]
  },
  {
   "cell_type": "code",
   "execution_count": 4,
   "metadata": {},
   "outputs": [
    {
     "data": {
      "text/plain": [
       "[[0,\n",
       "  1,\n",
       "  2,\n",
       "  3,\n",
       "  4,\n",
       "  5,\n",
       "  6,\n",
       "  7,\n",
       "  8,\n",
       "  9,\n",
       "  10,\n",
       "  11,\n",
       "  12,\n",
       "  13,\n",
       "  14,\n",
       "  15,\n",
       "  16,\n",
       "  17,\n",
       "  18,\n",
       "  19,\n",
       "  20,\n",
       "  21,\n",
       "  22,\n",
       "  23,\n",
       "  24,\n",
       "  25,\n",
       "  26,\n",
       "  27,\n",
       "  28,\n",
       "  29,\n",
       "  30,\n",
       "  31,\n",
       "  32,\n",
       "  33,\n",
       "  34,\n",
       "  35,\n",
       "  36,\n",
       "  37,\n",
       "  38],\n",
       " [39, 40, 41, 42, 43, 44, 45, 46],\n",
       " [47, 48, 49, 50, 51, 52, 53, 54, 55, 56, 57, 58, 59, 60],\n",
       " [61, 62, 63, 64, 65, 66, 67, 68, 69, 70, 71],\n",
       " [72,\n",
       "  73,\n",
       "  74,\n",
       "  75,\n",
       "  76,\n",
       "  77,\n",
       "  78,\n",
       "  79,\n",
       "  80,\n",
       "  81,\n",
       "  82,\n",
       "  83,\n",
       "  84,\n",
       "  85,\n",
       "  86,\n",
       "  87,\n",
       "  88,\n",
       "  89,\n",
       "  90,\n",
       "  91],\n",
       " [92, 93, 94, 95, 96, 97, 98, 99, 100, 101, 102, 103, 104, 105],\n",
       " [106, 107, 108, 109, 110, 111, 112, 113, 114, 115, 116, 117, 118, 119]]"
      ]
     },
     "execution_count": 4,
     "metadata": {},
     "output_type": "execute_result"
    }
   ],
   "source": [
    "#1\n",
    "sections = []\n",
    "\n",
    "sections.append([])\n",
    "for i in range(39):\n",
    "  sections[0].append(i)\n",
    "  i += 1\n",
    "\n",
    "sections.append([])\n",
    "for i in range(39, 47):\n",
    "  sections[1].append(i)\n",
    "  i += 1\n",
    "\n",
    "sections.append([])\n",
    "for i in range(47, 61):\n",
    "  sections[2].append(i)\n",
    "  i += 1\n",
    "\n",
    "sections.append([])\n",
    "for i in range(61, 72):\n",
    "  sections[3].append(i)\n",
    "  i += 1\n",
    "\n",
    "sections.append([])\n",
    "for i in range(72, 92):\n",
    "  sections[4].append(i)\n",
    "  i += 1\n",
    "\n",
    "sections.append([])\n",
    "for i in range(92, 106):\n",
    "  sections[5].append(i)\n",
    "  i += 1\n",
    "\n",
    "sections.append([])\n",
    "for i in range(106, 120):\n",
    "  sections[6].append(i)\n",
    "  i += 1\n",
    "\n",
    "sections"
   ]
  },
  {
   "cell_type": "code",
   "execution_count": 5,
   "metadata": {},
   "outputs": [
    {
     "data": {
      "text/plain": [
       "[114.3076923076923,\n",
       " 18.5,\n",
       " 91.14285714285714,\n",
       " 26.454545454545453,\n",
       " 89.8,\n",
       " 66.57142857142857,\n",
       " 101.35714285714286]"
      ]
     },
     "execution_count": 5,
     "metadata": {},
     "output_type": "execute_result"
    }
   ],
   "source": [
    "# 2\n",
    "averages  = []\n",
    "for i in range(len(sections)):\n",
    "  sum = 0\n",
    "  for j in sections[i]:\n",
    "    sum += df['counts'][j]\n",
    "  ave  = sum / len(sections[i])\n",
    "  averages.append(ave)\n",
    "averages"
   ]
  },
  {
   "cell_type": "code",
   "execution_count": 6,
   "metadata": {},
   "outputs": [
    {
     "data": {
      "text/plain": [
       "46.51298701298701"
      ]
     },
     "execution_count": 6,
     "metadata": {},
     "output_type": "execute_result"
    }
   ],
   "source": [
    "# 3\n",
    "averages_df = pd.DataFrame(averages)\n",
    "q1 = averages_df.quantile(0.25)[0]\n",
    "q1"
   ]
  },
  {
   "cell_type": "code",
   "execution_count": 7,
   "metadata": {},
   "outputs": [
    {
     "data": {
      "text/plain": [
       "(101, 19, 120)"
      ]
     },
     "execution_count": 7,
     "metadata": {},
     "output_type": "execute_result"
    }
   ],
   "source": [
    "# 4\n",
    "P = {}\n",
    "Q = {}\n",
    "for i in range(len(sections)):\n",
    "  if averages[i] > q1:\n",
    "    P[i] = sections[i]\n",
    "  else:\n",
    "    Q[i] = sections[i]\n",
    "t_p = 0\n",
    "t_q = 0\n",
    "for key in P:\n",
    "  t_p += len(P[key])\n",
    "for key in Q:\n",
    "  t_q += len(Q[key])\n",
    "t_b = t_p + t_q\n",
    "t_p, t_q, t_b"
   ]
  },
  {
   "cell_type": "code",
   "execution_count": 8,
   "metadata": {},
   "outputs": [
    {
     "data": {
      "text/plain": [
       "1.7289586305278175"
      ]
     },
     "execution_count": 8,
     "metadata": {},
     "output_type": "execute_result"
    }
   ],
   "source": [
    "# 5\n",
    "t_l = 60\n",
    "s_q = t_b/t_l + 10\n",
    "s_p = t_p / (t_l - t_q/s_q)\n",
    "s_p"
   ]
  },
  {
   "cell_type": "code",
   "execution_count": 9,
   "metadata": {},
   "outputs": [
    {
     "data": {
      "text/html": [
       "<div>\n",
       "<style scoped>\n",
       "    .dataframe tbody tr th:only-of-type {\n",
       "        vertical-align: middle;\n",
       "    }\n",
       "\n",
       "    .dataframe tbody tr th {\n",
       "        vertical-align: top;\n",
       "    }\n",
       "\n",
       "    .dataframe thead th {\n",
       "        text-align: right;\n",
       "    }\n",
       "</style>\n",
       "<table border=\"1\" class=\"dataframe\">\n",
       "  <thead>\n",
       "    <tr style=\"text-align: right;\">\n",
       "      <th></th>\n",
       "      <th>index</th>\n",
       "      <th>created_at</th>\n",
       "      <th>counts</th>\n",
       "    </tr>\n",
       "  </thead>\n",
       "  <tbody>\n",
       "    <tr>\n",
       "      <th>0</th>\n",
       "      <td>0</td>\n",
       "      <td>2022-01-16 01:01:00</td>\n",
       "      <td>309</td>\n",
       "    </tr>\n",
       "    <tr>\n",
       "      <th>1</th>\n",
       "      <td>1</td>\n",
       "      <td>2022-01-16 01:02:00</td>\n",
       "      <td>122</td>\n",
       "    </tr>\n",
       "    <tr>\n",
       "      <th>2</th>\n",
       "      <td>2</td>\n",
       "      <td>2022-01-16 01:03:00</td>\n",
       "      <td>213</td>\n",
       "    </tr>\n",
       "    <tr>\n",
       "      <th>3</th>\n",
       "      <td>3</td>\n",
       "      <td>2022-01-16 01:04:00</td>\n",
       "      <td>237</td>\n",
       "    </tr>\n",
       "    <tr>\n",
       "      <th>4</th>\n",
       "      <td>4</td>\n",
       "      <td>2022-01-16 01:05:00</td>\n",
       "      <td>174</td>\n",
       "    </tr>\n",
       "    <tr>\n",
       "      <th>...</th>\n",
       "      <td>...</td>\n",
       "      <td>...</td>\n",
       "      <td>...</td>\n",
       "    </tr>\n",
       "    <tr>\n",
       "      <th>96</th>\n",
       "      <td>115</td>\n",
       "      <td>2022-01-16 02:56:00</td>\n",
       "      <td>45</td>\n",
       "    </tr>\n",
       "    <tr>\n",
       "      <th>97</th>\n",
       "      <td>116</td>\n",
       "      <td>2022-01-16 02:57:00</td>\n",
       "      <td>37</td>\n",
       "    </tr>\n",
       "    <tr>\n",
       "      <th>98</th>\n",
       "      <td>117</td>\n",
       "      <td>2022-01-16 02:58:00</td>\n",
       "      <td>263</td>\n",
       "    </tr>\n",
       "    <tr>\n",
       "      <th>99</th>\n",
       "      <td>118</td>\n",
       "      <td>2022-01-16 02:59:00</td>\n",
       "      <td>241</td>\n",
       "    </tr>\n",
       "    <tr>\n",
       "      <th>100</th>\n",
       "      <td>119</td>\n",
       "      <td>2022-01-16 03:00:00</td>\n",
       "      <td>76</td>\n",
       "    </tr>\n",
       "  </tbody>\n",
       "</table>\n",
       "<p>101 rows × 3 columns</p>\n",
       "</div>"
      ],
      "text/plain": [
       "     index           created_at  counts\n",
       "0        0  2022-01-16 01:01:00     309\n",
       "1        1  2022-01-16 01:02:00     122\n",
       "2        2  2022-01-16 01:03:00     213\n",
       "3        3  2022-01-16 01:04:00     237\n",
       "4        4  2022-01-16 01:05:00     174\n",
       "..     ...                  ...     ...\n",
       "96     115  2022-01-16 02:56:00      45\n",
       "97     116  2022-01-16 02:57:00      37\n",
       "98     117  2022-01-16 02:58:00     263\n",
       "99     118  2022-01-16 02:59:00     241\n",
       "100    119  2022-01-16 03:00:00      76\n",
       "\n",
       "[101 rows x 3 columns]"
      ]
     },
     "execution_count": 9,
     "metadata": {},
     "output_type": "execute_result"
    }
   ],
   "source": [
    "# 6\n",
    "a_df = df.copy()\n",
    "for key in Q:\n",
    "  for i in Q[key]:\n",
    "    df.drop(i, inplace=True)\n",
    "df_r = df.reset_index()\n",
    "df_r"
   ]
  },
  {
   "cell_type": "code",
   "execution_count": 10,
   "metadata": {},
   "outputs": [
    {
     "data": {
      "text/plain": [
       "84"
      ]
     },
     "execution_count": 10,
     "metadata": {},
     "output_type": "execute_result"
    }
   ],
   "source": [
    "# 6\n",
    "description = df_r.describe()\n",
    "median = int(description.loc['50%'][1])\n",
    "median"
   ]
  },
  {
   "cell_type": "code",
   "execution_count": 11,
   "metadata": {},
   "outputs": [
    {
     "data": {
      "text/html": [
       "<div>\n",
       "<style scoped>\n",
       "    .dataframe tbody tr th:only-of-type {\n",
       "        vertical-align: middle;\n",
       "    }\n",
       "\n",
       "    .dataframe tbody tr th {\n",
       "        vertical-align: top;\n",
       "    }\n",
       "\n",
       "    .dataframe thead th {\n",
       "        text-align: right;\n",
       "    }\n",
       "</style>\n",
       "<table border=\"1\" class=\"dataframe\">\n",
       "  <thead>\n",
       "    <tr style=\"text-align: right;\">\n",
       "      <th></th>\n",
       "      <th>index</th>\n",
       "      <th>counts</th>\n",
       "    </tr>\n",
       "  </thead>\n",
       "  <tbody>\n",
       "    <tr>\n",
       "      <th>count</th>\n",
       "      <td>101.000000</td>\n",
       "      <td>101.000000</td>\n",
       "    </tr>\n",
       "    <tr>\n",
       "      <th>mean</th>\n",
       "      <td>60.138614</td>\n",
       "      <td>97.831683</td>\n",
       "    </tr>\n",
       "    <tr>\n",
       "      <th>std</th>\n",
       "      <td>37.552638</td>\n",
       "      <td>54.043514</td>\n",
       "    </tr>\n",
       "    <tr>\n",
       "      <th>min</th>\n",
       "      <td>0.000000</td>\n",
       "      <td>33.000000</td>\n",
       "    </tr>\n",
       "    <tr>\n",
       "      <th>25%</th>\n",
       "      <td>25.000000</td>\n",
       "      <td>63.000000</td>\n",
       "    </tr>\n",
       "    <tr>\n",
       "      <th>50%</th>\n",
       "      <td>58.000000</td>\n",
       "      <td>84.000000</td>\n",
       "    </tr>\n",
       "    <tr>\n",
       "      <th>75%</th>\n",
       "      <td>94.000000</td>\n",
       "      <td>112.000000</td>\n",
       "    </tr>\n",
       "    <tr>\n",
       "      <th>max</th>\n",
       "      <td>119.000000</td>\n",
       "      <td>309.000000</td>\n",
       "    </tr>\n",
       "  </tbody>\n",
       "</table>\n",
       "</div>"
      ],
      "text/plain": [
       "            index      counts\n",
       "count  101.000000  101.000000\n",
       "mean    60.138614   97.831683\n",
       "std     37.552638   54.043514\n",
       "min      0.000000   33.000000\n",
       "25%     25.000000   63.000000\n",
       "50%     58.000000   84.000000\n",
       "75%     94.000000  112.000000\n",
       "max    119.000000  309.000000"
      ]
     },
     "execution_count": 11,
     "metadata": {},
     "output_type": "execute_result"
    }
   ],
   "source": [
    "description"
   ]
  },
  {
   "cell_type": "code",
   "execution_count": 12,
   "metadata": {},
   "outputs": [
    {
     "data": {
      "text/plain": [
       "(50, 51, 101)"
      ]
     },
     "execution_count": 12,
     "metadata": {},
     "output_type": "execute_result"
    }
   ],
   "source": [
    "# 7\n",
    "PP = {}\n",
    "PQ = {}\n",
    "for i in range(len(df_r)):\n",
    "    if int(df_r['counts'][i]) > median:\n",
    "        PP[i] = df_r['index'][i]\n",
    "    else:\n",
    "        PQ[i] = df_r['index'][i]\n",
    "t_pp = len(PP)\n",
    "t_pq = len(PQ)\n",
    "t_pb = t_pp + t_pq\n",
    "t_pp, t_pq, t_pb"
   ]
  },
  {
   "cell_type": "code",
   "execution_count": 13,
   "metadata": {},
   "outputs": [
    {
     "data": {
      "text/plain": [
       "(1.4070228072768969, 2.2289586305278175, 12.0)"
      ]
     },
     "execution_count": 13,
     "metadata": {},
     "output_type": "execute_result"
    }
   ],
   "source": [
    "# 8\n",
    "s_pq = s_p + 0.5\n",
    "s_pp = t_pp/(t_l - t_q/s_q - t_pq/s_pq)\n",
    "s_pp, s_pq, s_q"
   ]
  },
  {
   "cell_type": "code",
   "execution_count": 14,
   "metadata": {},
   "outputs": [],
   "source": [
    "seconds_ary = []\n",
    "for i in range(120):\n",
    "    a = (i+1) * 60 * 1000\n",
    "    seconds_ary.append(a)\n",
    "\n",
    "sec = pd.Series(seconds_ary).astype(int)\n",
    "\n",
    "a_df['seconds'] = sec"
   ]
  },
  {
   "cell_type": "code",
   "execution_count": 15,
   "metadata": {},
   "outputs": [],
   "source": [
    "spr = []\n",
    "start = 0\n",
    "for i in range(120):\n",
    "    lmt = int(a_df['seconds'][i])\n",
    "    spr.append(sound[start:lmt])\n",
    "    start = int(a_df['seconds'][i])"
   ]
  },
  {
   "cell_type": "code",
   "execution_count": 16,
   "metadata": {},
   "outputs": [],
   "source": [
    "speed_df = pd.DataFrame(columns=['id', 'speed'])"
   ]
  },
  {
   "cell_type": "code",
   "execution_count": 17,
   "metadata": {},
   "outputs": [],
   "source": [
    "for key in PP:\n",
    "    id = PP[key]\n",
    "    speed = s_pp\n",
    "    if speed <= 1:\n",
    "        continue\n",
    "    else:\n",
    "        spr[id] = spr[id].speedup(playback_speed=speed, crossfade=0)\n",
    "        speed_df = speed_df.append({'id': id, 'speed': speed}, ignore_index=True)"
   ]
  },
  {
   "cell_type": "code",
   "execution_count": 18,
   "metadata": {},
   "outputs": [],
   "source": [
    "for key in PQ:\n",
    "    id = PQ[key]\n",
    "    speed = s_pq\n",
    "    if speed <= 1:\n",
    "        continue\n",
    "    else:\n",
    "        spr[id] = spr[id].speedup(playback_speed=speed, crossfade=0)\n",
    "        speed_df = speed_df.append({'id': id, 'speed': speed}, ignore_index=True)"
   ]
  },
  {
   "cell_type": "code",
   "execution_count": 19,
   "metadata": {},
   "outputs": [],
   "source": [
    "for key in Q:\n",
    "    for id in Q[key]:\n",
    "        speed = s_q\n",
    "        if speed <= 1:\n",
    "            continue\n",
    "        else:\n",
    "            spr[id] = spr[id].speedup(playback_speed=speed, crossfade=0)\n",
    "            speed_df = speed_df.append({'id': id, 'speed': speed}, ignore_index=True)"
   ]
  },
  {
   "cell_type": "code",
   "execution_count": 20,
   "metadata": {},
   "outputs": [
    {
     "data": {
      "text/plain": [
       "<_io.BufferedRandom name='algo2.mp3'>"
      ]
     },
     "execution_count": 20,
     "metadata": {},
     "output_type": "execute_result"
    }
   ],
   "source": [
    "compressed_sound = spr[0]\n",
    "for i in range(1, 119):\n",
    "    compressed_sound += spr[i]\n",
    "compressed_sound.export(\"algo2.mp3\", format=\"mp3\")"
   ]
  },
  {
   "cell_type": "code",
   "execution_count": 21,
   "metadata": {},
   "outputs": [
    {
     "data": {
      "text/plain": [
       "3575000"
      ]
     },
     "execution_count": 21,
     "metadata": {},
     "output_type": "execute_result"
    }
   ],
   "source": [
    "len(compressed_sound)"
   ]
  },
  {
   "cell_type": "code",
   "execution_count": 22,
   "metadata": {},
   "outputs": [
    {
     "data": {
      "text/html": [
       "<div>\n",
       "<style scoped>\n",
       "    .dataframe tbody tr th:only-of-type {\n",
       "        vertical-align: middle;\n",
       "    }\n",
       "\n",
       "    .dataframe tbody tr th {\n",
       "        vertical-align: top;\n",
       "    }\n",
       "\n",
       "    .dataframe thead th {\n",
       "        text-align: right;\n",
       "    }\n",
       "</style>\n",
       "<table border=\"1\" class=\"dataframe\">\n",
       "  <thead>\n",
       "    <tr style=\"text-align: right;\">\n",
       "      <th></th>\n",
       "      <th>id</th>\n",
       "      <th>speed</th>\n",
       "    </tr>\n",
       "  </thead>\n",
       "  <tbody>\n",
       "    <tr>\n",
       "      <th>0</th>\n",
       "      <td>0.0</td>\n",
       "      <td>1.407023</td>\n",
       "    </tr>\n",
       "    <tr>\n",
       "      <th>1</th>\n",
       "      <td>1.0</td>\n",
       "      <td>1.407023</td>\n",
       "    </tr>\n",
       "    <tr>\n",
       "      <th>2</th>\n",
       "      <td>2.0</td>\n",
       "      <td>1.407023</td>\n",
       "    </tr>\n",
       "    <tr>\n",
       "      <th>3</th>\n",
       "      <td>3.0</td>\n",
       "      <td>1.407023</td>\n",
       "    </tr>\n",
       "    <tr>\n",
       "      <th>4</th>\n",
       "      <td>4.0</td>\n",
       "      <td>1.407023</td>\n",
       "    </tr>\n",
       "    <tr>\n",
       "      <th>...</th>\n",
       "      <td>...</td>\n",
       "      <td>...</td>\n",
       "    </tr>\n",
       "    <tr>\n",
       "      <th>98</th>\n",
       "      <td>115.0</td>\n",
       "      <td>2.228959</td>\n",
       "    </tr>\n",
       "    <tr>\n",
       "      <th>99</th>\n",
       "      <td>116.0</td>\n",
       "      <td>2.228959</td>\n",
       "    </tr>\n",
       "    <tr>\n",
       "      <th>48</th>\n",
       "      <td>117.0</td>\n",
       "      <td>1.407023</td>\n",
       "    </tr>\n",
       "    <tr>\n",
       "      <th>49</th>\n",
       "      <td>118.0</td>\n",
       "      <td>1.407023</td>\n",
       "    </tr>\n",
       "    <tr>\n",
       "      <th>100</th>\n",
       "      <td>119.0</td>\n",
       "      <td>2.228959</td>\n",
       "    </tr>\n",
       "  </tbody>\n",
       "</table>\n",
       "<p>120 rows × 2 columns</p>\n",
       "</div>"
      ],
      "text/plain": [
       "        id     speed\n",
       "0      0.0  1.407023\n",
       "1      1.0  1.407023\n",
       "2      2.0  1.407023\n",
       "3      3.0  1.407023\n",
       "4      4.0  1.407023\n",
       "..     ...       ...\n",
       "98   115.0  2.228959\n",
       "99   116.0  2.228959\n",
       "48   117.0  1.407023\n",
       "49   118.0  1.407023\n",
       "100  119.0  2.228959\n",
       "\n",
       "[120 rows x 2 columns]"
      ]
     },
     "execution_count": 22,
     "metadata": {},
     "output_type": "execute_result"
    }
   ],
   "source": [
    "speed_df.sort_values(by='id')"
   ]
  }
 ],
 "metadata": {
  "interpreter": {
   "hash": "8173c077703430e2d71c81b1b5454bb1884ff148316dfe17ff51a73d8c625757"
  },
  "kernelspec": {
   "display_name": "Python 3.9.9 ('radio')",
   "language": "python",
   "name": "python3"
  },
  "language_info": {
   "codemirror_mode": {
    "name": "ipython",
    "version": 3
   },
   "file_extension": ".py",
   "mimetype": "text/x-python",
   "name": "python",
   "nbconvert_exporter": "python",
   "pygments_lexer": "ipython3",
   "version": "3.9.9"
  },
  "orig_nbformat": 4
 },
 "nbformat": 4,
 "nbformat_minor": 2
}
